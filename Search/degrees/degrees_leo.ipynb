{
 "cells": [
  {
   "cell_type": "code",
   "execution_count": 33,
   "metadata": {},
   "outputs": [],
   "source": [
    "import pandas as pd\n",
    "\n",
    "# Load data from CSV files\n",
    "movies = pd.read_csv(r'G:\\My Drive\\comp_sci\\AI\\CS50 Intro to AI\\CS50-AI\\Search\\degrees\\small\\movies.csv')\n",
    "people = pd.read_csv(r'G:\\My Drive\\comp_sci\\AI\\CS50 Intro to AI\\CS50-AI\\Search\\degrees\\small\\people.csv')\n",
    "stars = pd.read_csv(r'G:\\My Drive\\comp_sci\\AI\\CS50 Intro to AI\\CS50-AI\\Search\\degrees\\small\\stars.csv')\n",
    "\n",
    "# Standardizing column names between dataframes to enable merging\n",
    "people.columns = ['person_id', 'name', 'birth']\n",
    "movies.columns = ['movie_id', 'title', 'year']\n",
    "\n",
    "# Merging dataframes to create a single dataframe with actor names and movie titles\n",
    "stars = stars.merge(people, 'left', 'person_id').merge(movies, 'left', 'movie_id')\n",
    "stars = stars[['name', 'title']]\n",
    "stars.columns = ['actor', 'movie']"
   ]
  },
  {
   "cell_type": "code",
   "execution_count": 2,
   "metadata": {},
   "outputs": [],
   "source": [
    "class Node:\n",
    "    \"\"\"\n",
    "    A Node class representing a movie and its cast.\n",
    "    \"\"\"\n",
    "    def __init__(self, movie, cast, parent_movie, parent_actor):\n",
    "        self.movie = movie            # The movie title\n",
    "        self.cast = cast              # List of actors in the movie\n",
    "        self.parent_movie = parent_movie  # Parent movie node in the search path\n",
    "        self.parent_actor = parent_actor  # Actor from the parent movie node"
   ]
  },
  {
   "cell_type": "code",
   "execution_count": 22,
   "metadata": {},
   "outputs": [],
   "source": [
    "class Network:\n",
    "    \"\"\"\n",
    "    A Network class built around an actor to find the degrees of separation between them and other actors.\n",
    "    \"\"\"\n",
    "    def __init__(self, actor, stars):\n",
    "        self.actor = actor\n",
    "        self.stars = stars\n",
    "        # Initialize the search frontier with the starting actor's movies\n",
    "        self.frontier = [Node(movie,\n",
    "                              list(self.stars.groupby('movie').get_group(movie)['actor']), \n",
    "                              None,\n",
    "                              None) \n",
    "                         for movie in stars.groupby('actor').get_group(actor)['movie']]\n",
    "\n",
    "    def find_degrees(self, target_actor):\n",
    "        \"\"\"\n",
    "        Finds the degrees of separation between the initial actor and the target actor.\n",
    "        \"\"\"\n",
    "        self.explored = set()\n",
    "        # Mark the initial actor's movies as explored\n",
    "        for movie in self.frontier:\n",
    "            self.explored.add(movie.movie)\n",
    "\n",
    "        solution = []\n",
    "        while not solution:\n",
    "            try:\n",
    "                # Explore the next movie in the frontier\n",
    "                explored_movie = self.frontier.pop(0)\n",
    "            except IndexError:\n",
    "                raise Exception('No connection found between actors')\n",
    "\n",
    "            # Add neighboring movies to the frontier\n",
    "            neighbor_movies = []\n",
    "            for actor in explored_movie.cast:\n",
    "                for movie in self.stars.groupby('actor').get_group(actor)['movie']:\n",
    "                    if movie not in self.explored:\n",
    "                        self.explored.add(movie)\n",
    "                        neighbor_movies.append(Node(movie,\n",
    "                                                    list(self.stars.groupby('movie').get_group(movie)['actor']),\n",
    "                                                    explored_movie,\n",
    "                                                    actor))\n",
    "\n",
    "            # Check if the target actor is in the current movie's cast\n",
    "            for movie in neighbor_movies:\n",
    "                for actor in movie.cast:\n",
    "                    if actor == target_actor:\n",
    "                        # Build the solution path\n",
    "                        parent_movie = movie\n",
    "                        parent_actor = actor\n",
    "                        while parent_movie:\n",
    "                            solution.append((parent_movie.movie, parent_actor))\n",
    "                            parent_actor = parent_movie.parent_actor\n",
    "                            parent_movie = parent_movie.parent_movie\n",
    "                        solution.reverse()\n",
    "                        # Print the solution\n",
    "                        print(f'{self.actor} is {len(solution)} {\"degree\" if len(solution) == 1 else \"degrees\"} from {target_actor}.')\n",
    "                        print(f'{self.actor} starred in {solution[0][0]} with {solution[0][1]}.')\n",
    "                        for i in range(1, len(solution)):\n",
    "                            print(f'{solution[i-1][1]} starred in {solution[i][0]} with {solution[i][1]}')\n",
    "                        break\n",
    "                self.frontier.append(movie)"
   ]
  },
  {
   "cell_type": "code",
   "execution_count": 32,
   "metadata": {},
   "outputs": [
    {
     "name": "stdout",
     "output_type": "stream",
     "text": [
      "Tom Hanks is 3 degrees from Dustin Hoffman.\n",
      "Tom Hanks starred in Apollo 13 with Kevin Bacon.\n",
      "Kevin Bacon starred in A Few Good Men with Tom Cruise\n",
      "Tom Cruise starred in Rain Man with Dustin Hoffman\n"
     ]
    }
   ],
   "source": [
    "# Usage example (assuming the actors' names and data are in the loaded datasets)\n",
    "network = Network('Tom Hanks', stars)\n",
    "network.find_degrees('Dustin Hoffman')"
   ]
  }
 ],
 "metadata": {
  "kernelspec": {
   "display_name": "Python 3",
   "language": "python",
   "name": "python3"
  },
  "language_info": {
   "codemirror_mode": {
    "name": "ipython",
    "version": 3
   },
   "file_extension": ".py",
   "mimetype": "text/x-python",
   "name": "python",
   "nbconvert_exporter": "python",
   "pygments_lexer": "ipython3",
   "version": "3.12.0"
  }
 },
 "nbformat": 4,
 "nbformat_minor": 2
}

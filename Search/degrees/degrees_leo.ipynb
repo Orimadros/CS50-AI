{
 "cells": [
  {
   "cell_type": "code",
   "execution_count": 3,
   "metadata": {},
   "outputs": [],
   "source": [
    "import pandas as pd"
   ]
  },
  {
   "cell_type": "code",
   "execution_count": 71,
   "metadata": {},
   "outputs": [],
   "source": [
    "movies = pd.read_csv(r'G:\\My Drive\\comp_sci\\AI\\CS50 Intro to AI\\Search\\degrees\\large\\movies.csv')\n",
    "people = pd.read_csv(r'G:\\My Drive\\comp_sci\\AI\\CS50 Intro to AI\\Search\\degrees\\large\\people.csv')\n",
    "stars = pd.read_csv(r'G:\\My Drive\\comp_sci\\AI\\CS50 Intro to AI\\Search\\degrees\\large\\stars.csv')"
   ]
  },
  {
   "cell_type": "code",
   "execution_count": 72,
   "metadata": {},
   "outputs": [],
   "source": [
    "people.columns = ['person_id', 'name', 'birth']\n",
    "movies.columns = ['movie_id', 'title', 'year']"
   ]
  },
  {
   "cell_type": "code",
   "execution_count": 73,
   "metadata": {},
   "outputs": [],
   "source": [
    "stars = stars.merge(people, 'left', 'person_id').merge(movies, 'left', 'movie_id')\n",
    "stars = stars[['name', 'title']]\n",
    "stars.columns = ['actor', 'movie']"
   ]
  },
  {
   "cell_type": "code",
   "execution_count": 78,
   "metadata": {},
   "outputs": [],
   "source": [
    "class Node:\n",
    "\n",
    "    def __init__(self, movie, cast, parent_movie, parent_actor):\n",
    "        self.movie = movie\n",
    "        self.cast = cast\n",
    "        self.parent_movie = parent_movie\n",
    "        self.parent_actor = parent_actor\n",
    "\n",
    "class Network:\n",
    "\n",
    "    def __init__(self, actor, stars):\n",
    "        self.actor = actor\n",
    "        self.stars = stars\n",
    "        self.frontier = [Node(movie,\n",
    "                              list(self.stars.groupby('movie').get_group(movie)['actor']), \n",
    "                              None,\n",
    "                              None) \n",
    "                         for movie in stars.groupby('actor').get_group(actor)['movie']]\n",
    "\n",
    "            \n",
    "    def find_degrees(self, target_actor):\n",
    "        # Returns a list with tuples (movie, actor) \n",
    "        # linking the Network actor to the target actor\n",
    "        self.explored = set()\n",
    "        for movie in self.frontier:\n",
    "            self.explored.add(movie.movie)\n",
    "\n",
    "        solution = []\n",
    "        while solution == []:\n",
    "            try:    \n",
    "                explored_movie = self.frontier.pop(0)\n",
    "            except:\n",
    "                raise Exception('No connection found between actors')\n",
    "            neighbor_movies = []\n",
    "            for actor in explored_movie.cast:\n",
    "                for movie in self.stars.groupby('actor').get_group(actor)['movie']:\n",
    "                    if movie not in self.explored:\n",
    "                        self.explored.add(movie)\n",
    "                        neighbor_movies.append(Node(movie,\n",
    "                                                    list((self.stars.groupby('movie').get_group(movie)['actor'])),\n",
    "                                                    explored_movie,\n",
    "                                                    actor))\n",
    "            for movie in neighbor_movies:\n",
    "                for actor in explored_movie.cast:\n",
    "                    if actor == target_actor:\n",
    "                        parent_movie = explored_movie\n",
    "                        parent_actor = actor\n",
    "                        while parent_movie is not None:\n",
    "                            solution.append((parent_movie.movie, parent_actor))\n",
    "                            parent_actor = parent_movie.parent_actor\n",
    "                            parent_movie = parent_movie.parent_movie\n",
    "                        solution.reverse()\n",
    "                        print(f'{self.actor} is {len(solution)} {'degree' if len(solution) == 1 else 'degrees'} from {target_actor}.')\n",
    "                        print(f'{self.actor} starred in {solution[0][0]} with {solution[0][1]}.')\n",
    "                        for i in range(1, len(solution)):\n",
    "                            print(f'{solution[i-1][1]} starred in {solution[i][0]} with {solution[i][1]}')\n",
    "                        break\n",
    "                self.frontier.append(movie)"
   ]
  },
  {
   "cell_type": "code",
   "execution_count": 77,
   "metadata": {},
   "outputs": [],
   "source": [
    "network = Network('Dustin Hoffman', stars)"
   ]
  },
  {
   "cell_type": "code",
   "execution_count": null,
   "metadata": {},
   "outputs": [
    {
     "name": "stdout",
     "output_type": "stream",
     "text": [
      "Dustin Hoffman is 2 degrees from Jack Nicholson.\n",
      "Dustin Hoffman starred in Rain Man with Tom Cruise.\n",
      "Tom Cruise starred in A Few Good Men with Jack Nicholson\n"
     ]
    }
   ],
   "source": [
    "network.find_degrees('Jack Nicholson')"
   ]
  },
  {
   "cell_type": "code",
   "execution_count": 81,
   "metadata": {},
   "outputs": [
    {
     "data": {
      "text/html": [
       "<div>\n",
       "<style scoped>\n",
       "    .dataframe tbody tr th:only-of-type {\n",
       "        vertical-align: middle;\n",
       "    }\n",
       "\n",
       "    .dataframe tbody tr th {\n",
       "        vertical-align: top;\n",
       "    }\n",
       "\n",
       "    .dataframe thead th {\n",
       "        text-align: right;\n",
       "    }\n",
       "</style>\n",
       "<table border=\"1\" class=\"dataframe\">\n",
       "  <thead>\n",
       "    <tr style=\"text-align: right;\">\n",
       "      <th></th>\n",
       "      <th>actor</th>\n",
       "      <th>movie</th>\n",
       "    </tr>\n",
       "  </thead>\n",
       "  <tbody>\n",
       "    <tr>\n",
       "      <th>82011</th>\n",
       "      <td>Dustin Hoffman</td>\n",
       "      <td>Rain Man</td>\n",
       "    </tr>\n",
       "    <tr>\n",
       "      <th>82012</th>\n",
       "      <td>Tom Cruise</td>\n",
       "      <td>Rain Man</td>\n",
       "    </tr>\n",
       "    <tr>\n",
       "      <th>82013</th>\n",
       "      <td>Valeria Golino</td>\n",
       "      <td>Rain Man</td>\n",
       "    </tr>\n",
       "    <tr>\n",
       "      <th>82014</th>\n",
       "      <td>Gerald R. Molen</td>\n",
       "      <td>Rain Man</td>\n",
       "    </tr>\n",
       "  </tbody>\n",
       "</table>\n",
       "</div>"
      ],
      "text/plain": [
       "                 actor     movie\n",
       "82011   Dustin Hoffman  Rain Man\n",
       "82012       Tom Cruise  Rain Man\n",
       "82013   Valeria Golino  Rain Man\n",
       "82014  Gerald R. Molen  Rain Man"
      ]
     },
     "execution_count": 81,
     "metadata": {},
     "output_type": "execute_result"
    }
   ],
   "source": [
    "stars.groupby('movie').get_group('Rain Man')"
   ]
  }
 ],
 "metadata": {
  "kernelspec": {
   "display_name": "Python 3",
   "language": "python",
   "name": "python3"
  },
  "language_info": {
   "codemirror_mode": {
    "name": "ipython",
    "version": 3
   },
   "file_extension": ".py",
   "mimetype": "text/x-python",
   "name": "python",
   "nbconvert_exporter": "python",
   "pygments_lexer": "ipython3",
   "version": "3.12.0"
  }
 },
 "nbformat": 4,
 "nbformat_minor": 2
}

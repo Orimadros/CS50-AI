{
 "cells": [
  {
   "cell_type": "code",
   "execution_count": 5,
   "metadata": {},
   "outputs": [],
   "source": [
    "import pandas as pd\n",
    "from collections import deque\n",
    "movies = pd.read_csv(r'G:\\My Drive\\comp_sci\\AI\\CS50 Intro to AI\\CS50-AI\\Search\\degrees\\small\\movies.csv')\n",
    "people = pd.read_csv(r'G:\\My Drive\\comp_sci\\AI\\CS50 Intro to AI\\CS50-AI\\Search\\degrees\\small\\people.csv')\n",
    "stars = pd.read_csv(r'G:\\My Drive\\comp_sci\\AI\\CS50 Intro to AI\\CS50-AI\\Search\\degrees\\small\\stars.csv')\n",
    "people.columns = ['person_id', 'name', 'birth']\n",
    "movies.columns = ['movie_id', 'title', 'year']\n",
    "stars = stars.merge(people, 'left', 'person_id').merge(movies, 'left', 'movie_id')\n",
    "stars = stars[['name', 'title']]\n",
    "stars.columns = ['actor', 'movie']"
   ]
  },
  {
   "cell_type": "code",
   "execution_count": 6,
   "metadata": {},
   "outputs": [],
   "source": [
    "\n",
    "\n",
    "class Network:\n",
    "    def __init__(self, actor, stars):\n",
    "        self.actor = actor\n",
    "        self.stars = stars\n",
    "        self.actor_to_movies = stars.groupby('actor')['movie'].apply(set).to_dict()\n",
    "        self.movie_to_actors = stars.groupby('movie')['actor'].apply(set).to_dict()\n",
    "        initial_movies = self.actor_to_movies.get(actor, set())\n",
    "        self.frontier = deque([Node(movie, self.movie_to_actors[movie], None, None) for movie in initial_movies])\n",
    "        self.explored = set(initial_movies)\n",
    "            \n",
    "    def find_degrees(self, target_actor):\n",
    "        while self.frontier:\n",
    "            explored_node = self.frontier.popleft()\n",
    "            if target_actor in explored_node.cast:\n",
    "                return self.build_path(explored_node, target_actor)\n",
    "\n",
    "            for movie in set.union(*(self.actor_to_movies.get(actor, set()) for actor in explored_node.cast)) - self.explored:\n",
    "                self.explored.add(movie)\n",
    "                new_node = Node(movie, self.movie_to_actors[movie], explored_node, actor)\n",
    "                self.frontier.append(new_node)\n",
    "        raise Exception('No connection found between actors')\n",
    "\n",
    "    def build_path(self, node, target_actor):\n",
    "        path = []\n",
    "        while node:\n",
    "            path.append((node.movie, node.parent_actor if node.parent_actor else target_actor))\n",
    "            node = node.parent_movie\n",
    "        return path[::-1]\n",
    "\n",
    "class Node:\n",
    "    def __init__(self, movie, cast, parent_movie, parent_actor):\n",
    "        self.movie = movie\n",
    "        self.cast = cast\n",
    "        self.parent_movie = parent_movie\n",
    "        self.parent_actor = parent_actor\n",
    "\n",
    "# Usage\n",
    "# network = Network('Kevin Bacon', stars)\n",
    "# path = network.find_degrees('Tom Cruise')\n"
   ]
  },
  {
   "cell_type": "code",
   "execution_count": 7,
   "metadata": {},
   "outputs": [
    {
     "ename": "TypeError",
     "evalue": "Network.find_degrees() missing 1 required positional argument: 'target_actor'",
     "output_type": "error",
     "traceback": [
      "\u001b[1;31m---------------------------------------------------------------------------\u001b[0m",
      "\u001b[1;31mTypeError\u001b[0m                                 Traceback (most recent call last)",
      "Cell \u001b[1;32mIn[7], line 2\u001b[0m\n\u001b[0;32m      1\u001b[0m Network(\u001b[38;5;124m'\u001b[39m\u001b[38;5;124mBrad Pitt\u001b[39m\u001b[38;5;124m'\u001b[39m, stars)\n\u001b[1;32m----> 2\u001b[0m \u001b[43mNetwork\u001b[49m\u001b[38;5;241;43m.\u001b[39;49m\u001b[43mfind_degrees\u001b[49m\u001b[43m(\u001b[49m\u001b[38;5;124;43m'\u001b[39;49m\u001b[38;5;124;43mTom Cruise\u001b[39;49m\u001b[38;5;124;43m'\u001b[39;49m\u001b[43m)\u001b[49m\n",
      "\u001b[1;31mTypeError\u001b[0m: Network.find_degrees() missing 1 required positional argument: 'target_actor'"
     ]
    }
   ],
   "source": [
    "Network('Brad Pitt', stars)\n",
    "Network.find_degrees('Tom Cruise')"
   ]
  }
 ],
 "metadata": {
  "kernelspec": {
   "display_name": "Python 3",
   "language": "python",
   "name": "python3"
  },
  "language_info": {
   "codemirror_mode": {
    "name": "ipython",
    "version": 3
   },
   "file_extension": ".py",
   "mimetype": "text/x-python",
   "name": "python",
   "nbconvert_exporter": "python",
   "pygments_lexer": "ipython3",
   "version": "3.12.0"
  }
 },
 "nbformat": 4,
 "nbformat_minor": 2
}

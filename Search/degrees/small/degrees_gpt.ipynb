{
 "cells": [
  {
   "cell_type": "code",
   "execution_count": null,
   "metadata": {},
   "outputs": [],
   "source": [
    "import pandas as pd\n",
    "from collections import deque\n",
    "movies = pd.read_csv(r'G:\\My Drive\\comp_sci\\AI\\CS50 Intro to AI\\Search\\degrees\\large\\movies.csv')\n",
    "people = pd.read_csv(r'G:\\My Drive\\comp_sci\\AI\\CS50 Intro to AI\\Search\\degrees\\large\\people.csv')\n",
    "stars = pd.read_csv(r'G:\\My Drive\\comp_sci\\AI\\CS50 Intro to AI\\Search\\degrees\\large\\stars.csv')\n",
    "people.columns = ['person_id', 'name', 'birth']\n",
    "movies.columns = ['movie_id', 'title', 'year']\n",
    "stars = stars.merge(people, 'left', 'person_id').merge(movies, 'left', 'movie_id')\n",
    "stars = stars[['name', 'title']]\n",
    "stars.columns = ['actor', 'movie']"
   ]
  },
  {
   "cell_type": "code",
   "execution_count": null,
   "metadata": {},
   "outputs": [],
   "source": [
    "\n",
    "\n",
    "class Network:\n",
    "    def __init__(self, actor, stars):\n",
    "        self.actor = actor\n",
    "        self.stars = stars\n",
    "        self.actor_to_movies = stars.groupby('actor')['movie'].apply(set).to_dict()\n",
    "        self.movie_to_actors = stars.groupby('movie')['actor'].apply(set).to_dict()\n",
    "        initial_movies = self.actor_to_movies.get(actor, set())\n",
    "        self.frontier = deque([Node(movie, self.movie_to_actors[movie], None, None) for movie in initial_movies])\n",
    "        self.explored = set(initial_movies)\n",
    "            \n",
    "    def find_degrees(self, target_actor):\n",
    "        while self.frontier:\n",
    "            explored_node = self.frontier.popleft()\n",
    "            if target_actor in explored_node.cast:\n",
    "                return self.build_path(explored_node, target_actor)\n",
    "\n",
    "            for movie in set.union(*(self.actor_to_movies.get(actor, set()) for actor in explored_node.cast)) - self.explored:\n",
    "                self.explored.add(movie)\n",
    "                new_node = Node(movie, self.movie_to_actors[movie], explored_node, actor)\n",
    "                self.frontier.append(new_node)\n",
    "        raise Exception('No connection found between actors')\n",
    "\n",
    "    def build_path(self, node, target_actor):\n",
    "        path = []\n",
    "        while node:\n",
    "            path.append((node.movie, node.parent_actor if node.parent_actor else target_actor))\n",
    "            node = node.parent_movie\n",
    "        return path[::-1]\n",
    "\n",
    "class Node:\n",
    "    def __init__(self, movie, cast, parent_movie, parent_actor):\n",
    "        self.movie = movie\n",
    "        self.cast = cast\n",
    "        self.parent_movie = parent_movie\n",
    "        self.parent_actor = parent_actor\n",
    "\n",
    "# Usage\n",
    "# network = Network('Kevin Bacon', stars)\n",
    "# path = network.find_degrees('Tom Cruise')\n"
   ]
  }
 ],
 "metadata": {
  "kernelspec": {
   "display_name": "Python 3",
   "language": "python",
   "name": "python3"
  },
  "language_info": {
   "name": "python",
   "version": "3.12.0"
  }
 },
 "nbformat": 4,
 "nbformat_minor": 2
}

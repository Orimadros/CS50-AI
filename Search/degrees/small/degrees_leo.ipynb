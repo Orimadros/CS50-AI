{
 "cells": [
  {
   "cell_type": "code",
   "execution_count": 1,
   "metadata": {},
   "outputs": [],
   "source": [
    "import pandas as pd"
   ]
  },
  {
   "cell_type": "code",
   "execution_count": 36,
   "metadata": {},
   "outputs": [],
   "source": [
    "movies = pd.read_csv(r'G:\\My Drive\\comp_sci\\AI\\CS50 Intro to AI\\Search\\degrees\\small\\movies.csv')\n",
    "people = pd.read_csv(r'G:\\My Drive\\comp_sci\\AI\\CS50 Intro to AI\\Search\\degrees\\small\\people.csv')\n",
    "stars = pd.read_csv(r'G:\\My Drive\\comp_sci\\AI\\CS50 Intro to AI\\Search\\degrees\\small\\stars.csv')"
   ]
  },
  {
   "cell_type": "code",
   "execution_count": 37,
   "metadata": {},
   "outputs": [],
   "source": [
    "people.columns = ['person_id', 'name', 'birth']\n",
    "movies.columns = ['movie_id', 'title', 'year']"
   ]
  },
  {
   "cell_type": "code",
   "execution_count": 38,
   "metadata": {},
   "outputs": [],
   "source": [
    "stars = stars.merge(people, 'left', 'person_id').merge(movies, 'left', 'movie_id')\n",
    "stars = stars[['name', 'title']]\n",
    "stars.columns = ['actor', 'movie']"
   ]
  },
  {
   "cell_type": "code",
   "execution_count": 39,
   "metadata": {},
   "outputs": [
    {
     "data": {
      "text/html": [
       "<div>\n",
       "<style scoped>\n",
       "    .dataframe tbody tr th:only-of-type {\n",
       "        vertical-align: middle;\n",
       "    }\n",
       "\n",
       "    .dataframe tbody tr th {\n",
       "        vertical-align: top;\n",
       "    }\n",
       "\n",
       "    .dataframe thead th {\n",
       "        text-align: right;\n",
       "    }\n",
       "</style>\n",
       "<table border=\"1\" class=\"dataframe\">\n",
       "  <thead>\n",
       "    <tr style=\"text-align: right;\">\n",
       "      <th></th>\n",
       "      <th>actor</th>\n",
       "      <th>movie</th>\n",
       "    </tr>\n",
       "  </thead>\n",
       "  <tbody>\n",
       "    <tr>\n",
       "      <th>0</th>\n",
       "      <td>Kevin Bacon</td>\n",
       "      <td>A Few Good Men</td>\n",
       "    </tr>\n",
       "    <tr>\n",
       "      <th>1</th>\n",
       "      <td>Kevin Bacon</td>\n",
       "      <td>Apollo 13</td>\n",
       "    </tr>\n",
       "    <tr>\n",
       "      <th>2</th>\n",
       "      <td>Tom Cruise</td>\n",
       "      <td>A Few Good Men</td>\n",
       "    </tr>\n",
       "    <tr>\n",
       "      <th>3</th>\n",
       "      <td>Tom Cruise</td>\n",
       "      <td>Rain Man</td>\n",
       "    </tr>\n",
       "    <tr>\n",
       "      <th>4</th>\n",
       "      <td>Cary Elwes</td>\n",
       "      <td>The Princess Bride</td>\n",
       "    </tr>\n",
       "  </tbody>\n",
       "</table>\n",
       "</div>"
      ],
      "text/plain": [
       "         actor               movie\n",
       "0  Kevin Bacon      A Few Good Men\n",
       "1  Kevin Bacon           Apollo 13\n",
       "2   Tom Cruise      A Few Good Men\n",
       "3   Tom Cruise            Rain Man\n",
       "4   Cary Elwes  The Princess Bride"
      ]
     },
     "execution_count": 39,
     "metadata": {},
     "output_type": "execute_result"
    }
   ],
   "source": [
    "stars.head()"
   ]
  },
  {
   "cell_type": "code",
   "execution_count": 52,
   "metadata": {},
   "outputs": [],
   "source": [
    "class Network:\n",
    "\n",
    "    def __init__(self, actor, stars):\n",
    "        self.actor = actor\n",
    "        self.stars = stars\n",
    "        self.frontier = [self.Movie(moviename, list(stars.groupby('movie').get_group(moviename)['actor'])) \n",
    "                         for moviename in stars.groupby('actor').get_group(actor)['movie']]\n",
    "\n",
    "    class Movie:\n",
    "\n",
    "        def __init__(self, name, cast):\n",
    "            self.name = name\n",
    "            self.cast = cast\n",
    "    \n",
    "    def find_degrees(self, target_actor):\n",
    "        "
   ]
  },
  {
   "cell_type": "code",
   "execution_count": 55,
   "metadata": {},
   "outputs": [
    {
     "data": {
      "text/plain": [
       "{'name': 'A Few Good Men',\n",
       " 'cast': ['Kevin Bacon', 'Tom Cruise', 'Demi Moore', 'Jack Nicholson']}"
      ]
     },
     "execution_count": 55,
     "metadata": {},
     "output_type": "execute_result"
    }
   ],
   "source": [
    "network = Network('Kevin Bacon', stars)\n",
    "network.__dict__['frontier'][0].__dict__"
   ]
  }
 ],
 "metadata": {
  "kernelspec": {
   "display_name": "Python 3",
   "language": "python",
   "name": "python3"
  },
  "language_info": {
   "codemirror_mode": {
    "name": "ipython",
    "version": 3
   },
   "file_extension": ".py",
   "mimetype": "text/x-python",
   "name": "python",
   "nbconvert_exporter": "python",
   "pygments_lexer": "ipython3",
   "version": "3.12.0"
  }
 },
 "nbformat": 4,
 "nbformat_minor": 2
}
